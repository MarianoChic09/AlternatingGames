{
 "cells": [
  {
   "cell_type": "markdown",
   "metadata": {},
   "source": [
    "# Kuhn Poker "
   ]
  },
  {
   "cell_type": "code",
   "execution_count": 1,
   "metadata": {},
   "outputs": [],
   "source": [
    "from agents.counterfactualregret import CounterFactualRegret\n",
    "from importlib import reload\n",
    "import agents\n",
    "reload(agents)\n",
    "reload(agents.counterfactualregret)\n",
    "\n",
    "from games.kuhn import KuhnPoker\n",
    "from agents.agent_random import RandomAgent\n",
    "from base.utils import play, run\n",
    "import numpy as np\n",
    "\n",
    "game = KuhnPoker(render_mode='human')\n",
    "reload(agents.counterfactualregret)\n",
    "from agents.counterfactualregret import CounterFactualRegret\n",
    "reload(agents.agent_random)\n",
    "from agents.agent_random import RandomAgent"
   ]
  },
  {
   "cell_type": "code",
   "execution_count": 2,
   "metadata": {},
   "outputs": [],
   "source": [
    "agent_classes = [ CounterFactualRegret, RandomAgent ]\n",
    "my_agents = {}\n",
    "for i, agent in enumerate(game.agents):\n",
    "    my_agents[agent] = agent_classes[i](game=game, agent=agent)"
   ]
  },
  {
   "cell_type": "code",
   "execution_count": 3,
   "metadata": {},
   "outputs": [
    {
     "data": {
      "text/plain": [
       "{'agent_0': <agents.counterfactualregret.CounterFactualRegret at 0x1ddd1d9eba0>,\n",
       " 'agent_1': <agents.agent_random.RandomAgent at 0x1ddd915ac60>}"
      ]
     },
     "execution_count": 3,
     "metadata": {},
     "output_type": "execute_result"
    }
   ],
   "source": [
    "my_agents"
   ]
  },
  {
   "cell_type": "code",
   "execution_count": 4,
   "metadata": {},
   "outputs": [
    {
     "data": {
      "text/plain": [
       "({-2: 12, -1: 44, 1: 22, 2: 22}, -0.02)"
      ]
     },
     "execution_count": 4,
     "metadata": {},
     "output_type": "execute_result"
    }
   ],
   "source": [
    "# agents = {**agents, **dict(map(lambda agent: (agent, RandomAgent(game=game, agent=agent)), game.agents))}\n",
    "\n",
    "for agent in my_agents.values():\n",
    "    agent.train(niter=100)  # You can adjust the number of iterations\n",
    "    \n",
    "run(game=game, agents=my_agents)"
   ]
  },
  {
   "cell_type": "code",
   "execution_count": 59,
   "metadata": {},
   "outputs": [
    {
     "data": {
      "text/plain": [
       "[0, 1]"
      ]
     },
     "execution_count": 59,
     "metadata": {},
     "output_type": "execute_result"
    }
   ],
   "source": [
    "game.available_actions()"
   ]
  },
  {
   "cell_type": "code",
   "execution_count": 60,
   "metadata": {},
   "outputs": [],
   "source": [
    "# game.reset()\n",
    "# game.step(1)\n",
    "# game.observe('agent_0')"
   ]
  },
  {
   "cell_type": "code",
   "execution_count": 44,
   "metadata": {},
   "outputs": [
    {
     "name": "stdout",
     "output_type": "stream",
     "text": [
      "0\t agent_0 [0.68458563 0.31541437]\n",
      "0b\t agent_1 [0.99315068 0.00684932]\n",
      "0p\t agent_1 [0.61050007 0.38949993]\n",
      "0pb\t agent_0 [0.99531815 0.00468185]\n",
      "1\t agent_0 [0.65706216 0.34293784]\n",
      "1b\t agent_1 [0.63008848 0.36991152]\n",
      "1p\t agent_1 [0.94029851 0.05970149]\n",
      "1pb\t agent_0 [0.44034229 0.55965771]\n",
      "2\t agent_0 [0.22177043 0.77822957]\n",
      "2b\t agent_1 [0.00833333 0.99166667]\n",
      "2p\t agent_1 [0.00833333 0.99166667]\n",
      "2pb\t agent_0 [0.02013021 0.97986979]\n",
      "<agents.agent_random.RandomAgent object at 0x0000026A7FE4EC90> does not have a node_dict attribute.\n"
     ]
    }
   ],
   "source": [
    "# for n in sorted(agent.node_dict.keys()):\n",
    "#     print(n+'\\t', agent.node_dict[n].agent, agent.node_dict[n].policy())\n",
    "\n",
    "for agent in my_agents.values():\n",
    "    if hasattr(agent, 'node_dict'):\n",
    "        for n in sorted(agent.node_dict.keys()):\n",
    "            print(n + '\\t', agent.node_dict[n].agent, agent.node_dict[n].policy())\n",
    "    else:\n",
    "        print(f\"{agent} does not have a node_dict attribute.\")"
   ]
  },
  {
   "cell_type": "code",
   "execution_count": 46,
   "metadata": {},
   "outputs": [
    {
     "name": "stdout",
     "output_type": "stream",
     "text": [
      "Average reward: {'agent_0': 0.13081, 'agent_1': -0.13081}\n",
      "Agent mapping: {'agent_0': <agents.counterfactualregret.CounterFactualRegret object at 0x0000026A18567E10>, 'agent_1': <agents.agent_random.RandomAgent object at 0x0000026A7FE4EC90>}\n"
     ]
    }
   ],
   "source": [
    "cum_rewards = dict(map(lambda agent: (agent, 0), game.agents))\n",
    "niter = 100000\n",
    "for _ in range(niter):\n",
    "    game.reset()\n",
    "    turn = 0\n",
    "    while not game.done():\n",
    "        agent.agent = game.agent_selection\n",
    "        a = agent.action()\n",
    "        game.step(a)\n",
    "        turn +=1\n",
    "    for ag in game.agents:\n",
    "        cum_rewards[ag] += game.rewards[ag]\n",
    "print('Average reward:',dict(map(lambda ag : (ag, cum_rewards[ag]/niter), game.agents)))\n",
    "print('Agent mapping:',my_agents)"
   ]
  },
  {
   "cell_type": "code",
   "execution_count": null,
   "metadata": {},
   "outputs": [],
   "source": []
  }
 ],
 "metadata": {
  "kernelspec": {
   "display_name": "RL",
   "language": "python",
   "name": "python3"
  },
  "language_info": {
   "codemirror_mode": {
    "name": "ipython",
    "version": 3
   },
   "file_extension": ".py",
   "mimetype": "text/x-python",
   "name": "python",
   "nbconvert_exporter": "python",
   "pygments_lexer": "ipython3",
   "version": "3.12.0"
  }
 },
 "nbformat": 4,
 "nbformat_minor": 2
}
