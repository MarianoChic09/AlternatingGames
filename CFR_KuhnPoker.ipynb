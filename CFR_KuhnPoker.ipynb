{
 "cells": [
  {
   "cell_type": "markdown",
   "metadata": {},
   "source": [
    "# Kuhn Poker "
   ]
  },
  {
   "cell_type": "code",
   "execution_count": 62,
   "metadata": {},
   "outputs": [],
   "source": [
    "from agents.counterfactualregret import CounterFactualRegret\n",
    "from importlib import reload\n",
    "import agents\n",
    "reload(agents)\n",
    "reload(agents.counterfactualregret)\n",
    "\n",
    "from games.kuhn import KuhnPoker\n",
    "from agents.agent_random import RandomAgent\n",
    "from base.utils import play, run\n",
    "import numpy as np\n",
    "\n",
    "game = KuhnPoker(render_mode='human')\n",
    "reload(agents.counterfactualregret)\n",
    "from agents.counterfactualregret import CounterFactualRegret\n"
   ]
  },
  {
   "cell_type": "code",
   "execution_count": 63,
   "metadata": {},
   "outputs": [
    {
     "data": {
      "text/plain": [
       "({-2: 24, -1: 24, 1: 41, 2: 11}, -0.09)"
      ]
     },
     "execution_count": 63,
     "metadata": {},
     "output_type": "execute_result"
    }
   ],
   "source": [
    "agents = dict(map(lambda agent: (agent, CounterFactualRegret(game=game, agent=agent)), game.agents))\n",
    "\n",
    "for agent in agents.values():\n",
    "    agent.train(niter=100)  # You can adjust the number of iterations\n",
    "    \n",
    "run(game=game, agents=agents)"
   ]
  },
  {
   "cell_type": "code",
   "execution_count": 59,
   "metadata": {},
   "outputs": [
    {
     "data": {
      "text/plain": [
       "[0, 1]"
      ]
     },
     "execution_count": 59,
     "metadata": {},
     "output_type": "execute_result"
    }
   ],
   "source": [
    "game.available_actions()"
   ]
  },
  {
   "cell_type": "code",
   "execution_count": 60,
   "metadata": {},
   "outputs": [],
   "source": [
    "# game.reset()\n",
    "# game.step(1)\n",
    "# game.observe('agent_0')"
   ]
  },
  {
   "cell_type": "code",
   "execution_count": 64,
   "metadata": {},
   "outputs": [
    {
     "name": "stdout",
     "output_type": "stream",
     "text": [
      "0\t agent_0 [0.76578406 0.23421594]\n",
      "0b\t agent_1 [0.953125 0.046875]\n",
      "0p\t agent_1 [0.67178271 0.32821729]\n",
      "0pb\t agent_0 [0.98834061 0.01165939]\n",
      "1\t agent_0 [0.44749531 0.55250469]\n",
      "1b\t agent_1 [0.44114524 0.55885476]\n",
      "1p\t agent_1 [0.88475865 0.11524135]\n",
      "1pb\t agent_0 [0.60900197 0.39099803]\n",
      "2\t agent_0 [0.3569576 0.6430424]\n",
      "2b\t agent_1 [0.01388889 0.98611111]\n",
      "2p\t agent_1 [0.01388889 0.98611111]\n",
      "2pb\t agent_0 [0.01795803 0.98204197]\n"
     ]
    }
   ],
   "source": [
    "for n in sorted(agent.node_dict.keys()):\n",
    "    print(n+'\\t', agent.node_dict[n].agent, agent.node_dict[n].policy())"
   ]
  },
  {
   "cell_type": "code",
   "execution_count": 48,
   "metadata": {},
   "outputs": [
    {
     "name": "stdout",
     "output_type": "stream",
     "text": [
      "Average reward: {'agent_0': -0.2035, 'agent_1': 0.2035}\n"
     ]
    }
   ],
   "source": [
    "cum_rewards = dict(map(lambda agent: (agent, 0), game.agents))\n",
    "niter = 10000\n",
    "for _ in range(niter):\n",
    "    game.reset()\n",
    "    turn = 0\n",
    "    while not game.done():\n",
    "        agent.agent = game.agent_selection\n",
    "        a = agent.action()\n",
    "        game.step(a)\n",
    "        turn +=1\n",
    "    for ag in game.agents:\n",
    "        cum_rewards[ag] += game.rewards[ag]\n",
    "print('Average reward:',dict(map(lambda ag : (ag, cum_rewards[ag]/niter), game.agents)))"
   ]
  },
  {
   "cell_type": "code",
   "execution_count": null,
   "metadata": {},
   "outputs": [],
   "source": []
  }
 ],
 "metadata": {
  "kernelspec": {
   "display_name": "RL",
   "language": "python",
   "name": "python3"
  },
  "language_info": {
   "codemirror_mode": {
    "name": "ipython",
    "version": 3
   },
   "file_extension": ".py",
   "mimetype": "text/x-python",
   "name": "python",
   "nbconvert_exporter": "python",
   "pygments_lexer": "ipython3",
   "version": "3.12.0"
  }
 },
 "nbformat": 4,
 "nbformat_minor": 2
}
