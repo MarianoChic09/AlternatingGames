{
 "cells": [
  {
   "cell_type": "markdown",
   "metadata": {},
   "source": [
    "# Kuhn Poker "
   ]
  },
  {
   "cell_type": "code",
   "execution_count": 1,
   "metadata": {},
   "outputs": [],
   "source": [
    "from agents.counterfactualregret import CounterFactualRegret\n",
    "from importlib import reload\n",
    "import agents\n",
    "reload(agents)\n",
    "reload(agents.counterfactualregret)\n",
    "\n",
    "from games.kuhn3 import KuhnPoker3\n",
    "from agents.agent_random import RandomAgent\n",
    "from base.utils import play, run\n",
    "import numpy as np\n",
    "\n",
    "game = KuhnPoker3(render_mode='human')\n",
    "reload(agents.counterfactualregret)\n",
    "from agents.counterfactualregret import CounterFactualRegret\n"
   ]
  },
  {
   "cell_type": "code",
   "execution_count": 2,
   "metadata": {},
   "outputs": [
    {
     "data": {
      "text/plain": [
       "({-2: 23, -1: 38, 2: 25, 3: 13, 4: 1}, 0.09)"
      ]
     },
     "execution_count": 2,
     "metadata": {},
     "output_type": "execute_result"
    }
   ],
   "source": [
    "agents = dict(map(lambda agent: (agent, CounterFactualRegret(game=game, agent=agent)), game.agents))\n",
    "\n",
    "for agent in agents.values():\n",
    "    agent.train(niter=100)  # You can adjust the number of iterations\n",
    "    \n",
    "run(game=game, agents=agents)"
   ]
  },
  {
   "cell_type": "code",
   "execution_count": 59,
   "metadata": {},
   "outputs": [
    {
     "data": {
      "text/plain": [
       "[0, 1]"
      ]
     },
     "execution_count": 59,
     "metadata": {},
     "output_type": "execute_result"
    }
   ],
   "source": [
    "game.available_actions()"
   ]
  },
  {
   "cell_type": "code",
   "execution_count": 60,
   "metadata": {},
   "outputs": [],
   "source": [
    "# game.reset()\n",
    "# game.step(1)\n",
    "# game.observe('agent_0')"
   ]
  },
  {
   "cell_type": "code",
   "execution_count": 3,
   "metadata": {},
   "outputs": [
    {
     "name": "stdout",
     "output_type": "stream",
     "text": [
      "0\t agent_0 [0.65601113 0.34398887]\n",
      "0b\t agent_1 [0.97727273 0.02272727]\n",
      "0bb\t agent_2 [0.96875 0.03125]\n",
      "0bp\t agent_2 [0.96875 0.03125]\n",
      "0p\t agent_1 [0.88216682 0.11783318]\n",
      "0pb\t agent_2 [0.984375 0.015625]\n",
      "0pbb\t agent_0 [0.97882827 0.02117173]\n",
      "0pbp\t agent_0 [0.93648482 0.06351518]\n",
      "0pp\t agent_2 [0.63662699 0.36337301]\n",
      "0ppb\t agent_0 [0.97882827 0.02117173]\n",
      "0ppbb\t agent_1 [0.98711849 0.01288151]\n",
      "0ppbp\t agent_1 [0.98711849 0.01288151]\n",
      "1\t agent_0 [0.83906589 0.16093411]\n",
      "1b\t agent_1 [0.9375 0.0625]\n",
      "1bb\t agent_2 [0.97826087 0.02173913]\n",
      "1bp\t agent_2 [0.88810865 0.11189135]\n",
      "1p\t agent_1 [0.69418627 0.30581373]\n",
      "1pb\t agent_2 [0.97826087 0.02173913]\n",
      "1pbb\t agent_0 [0.98935892 0.01064108]\n",
      "1pbp\t agent_0 [0.98935892 0.01064108]\n",
      "1pp\t agent_2 [0.75910433 0.24089567]\n",
      "1ppb\t agent_0 [0.88432142 0.11567858]\n",
      "1ppbb\t agent_1 [0.81544059 0.18455941]\n",
      "1ppbp\t agent_1 [0.54993816 0.45006184]\n",
      "2\t agent_0 [0.67552839 0.32447161]\n",
      "2b\t agent_1 [0.09466835 0.90533165]\n",
      "2bb\t agent_2 [0.94642857 0.05357143]\n",
      "2bp\t agent_2 [0.55775155 0.44224845]\n",
      "2p\t agent_1 [0.63746797 0.36253203]\n",
      "2pb\t agent_2 [0.4260646 0.5739354]\n",
      "2pbb\t agent_0 [0.9872386 0.0127614]\n",
      "2pbp\t agent_0 [0.31010056 0.68989944]\n",
      "2pp\t agent_2 [0.80072441 0.19927559]\n",
      "2ppb\t agent_0 [0.76474556 0.23525444]\n",
      "2ppbb\t agent_1 [0.441503 0.558497]\n",
      "2ppbp\t agent_1 [0.2416529 0.7583471]\n",
      "3\t agent_0 [0.43272593 0.56727407]\n",
      "3b\t agent_1 [0.015625 0.984375]\n",
      "3bb\t agent_2 [0.02941176 0.97058824]\n",
      "3bp\t agent_2 [0.02941176 0.97058824]\n",
      "3p\t agent_1 [0.54638337 0.45361663]\n",
      "3pb\t agent_2 [0.02941176 0.97058824]\n",
      "3pbb\t agent_0 [0.02310932 0.97689068]\n",
      "3pbp\t agent_0 [0.02310932 0.97689068]\n",
      "3pp\t agent_2 [0.02941176 0.97058824]\n",
      "3ppb\t agent_0 [0.02310932 0.97689068]\n",
      "3ppbb\t agent_1 [0.02859714 0.97140286]\n",
      "3ppbp\t agent_1 [0.02859714 0.97140286]\n"
     ]
    }
   ],
   "source": [
    "for n in sorted(agent.node_dict.keys()):\n",
    "    print(n+'\\t', agent.node_dict[n].agent, agent.node_dict[n].policy())"
   ]
  },
  {
   "cell_type": "code",
   "execution_count": 4,
   "metadata": {},
   "outputs": [
    {
     "name": "stdout",
     "output_type": "stream",
     "text": [
      "Average reward: {'agent_0': -0.0801, 'agent_1': 0.0281, 'agent_2': 0.052}\n"
     ]
    },
    {
     "ename": "",
     "evalue": "",
     "output_type": "error",
     "traceback": [
      "\u001b[1;31mThe Kernel crashed while executing code in the the current cell or a previous cell. Please review the code in the cell(s) to identify a possible cause of the failure. Click <a href='https://aka.ms/vscodeJupyterKernelCrash'>here</a> for more info. View Jupyter <a href='command:jupyter.viewOutput'>log</a> for further details."
     ]
    }
   ],
   "source": [
    "cum_rewards = dict(map(lambda agent: (agent, 0), game.agents))\n",
    "niter = 10000\n",
    "for _ in range(niter):\n",
    "    game.reset()\n",
    "    turn = 0\n",
    "    while not game.done():\n",
    "        agent.agent = game.agent_selection\n",
    "        a = agent.action()\n",
    "        game.step(a)\n",
    "        turn +=1\n",
    "    for ag in game.agents:\n",
    "        cum_rewards[ag] += game.rewards[ag]\n",
    "print('Average reward:',dict(map(lambda ag : (ag, cum_rewards[ag]/niter), game.agents)))"
   ]
  },
  {
   "cell_type": "code",
   "execution_count": null,
   "metadata": {},
   "outputs": [],
   "source": []
  }
 ],
 "metadata": {
  "kernelspec": {
   "display_name": "RL",
   "language": "python",
   "name": "python3"
  },
  "language_info": {
   "codemirror_mode": {
    "name": "ipython",
    "version": 3
   },
   "file_extension": ".py",
   "mimetype": "text/x-python",
   "name": "python",
   "nbconvert_exporter": "python",
   "pygments_lexer": "ipython3",
   "version": "3.11.6"
  }
 },
 "nbformat": 4,
 "nbformat_minor": 2
}
