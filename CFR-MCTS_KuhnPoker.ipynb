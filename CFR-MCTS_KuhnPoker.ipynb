{
 "cells": [
  {
   "cell_type": "markdown",
   "metadata": {},
   "source": [
    "# Kuhn Poker "
   ]
  },
  {
   "cell_type": "code",
   "execution_count": 35,
   "metadata": {},
   "outputs": [],
   "source": [
    "from importlib import reload\n",
    "import agents\n",
    "reload(agents)\n",
    "import agents.counterfactualregret_mcts\n",
    "reload(agents.counterfactualregret_mcts)\n",
    "\n",
    "from games.kuhn import KuhnPoker\n",
    "from agents.agent_random import RandomAgent\n",
    "from base.utils import play, run\n",
    "import numpy as np\n",
    "\n",
    "game = KuhnPoker(render_mode='human')\n",
    "reload(agents.counterfactualregret_mcts)\n",
    "from agents.counterfactualregret_mcts import CounterFactualRegretMCTS\n",
    "reload(agents.agent_random)\n",
    "from agents.agent_random import RandomAgent"
   ]
  },
  {
   "cell_type": "code",
   "execution_count": 36,
   "metadata": {},
   "outputs": [],
   "source": [
    "agent_classes = [ CounterFactualRegretMCTS, RandomAgent ]\n",
    "my_agents = {}\n",
    "for i, agent in enumerate(game.agents):\n",
    "    my_agents[agent] = agent_classes[i](game=game, agent=agent)\n",
    "\n"
   ]
  },
  {
   "cell_type": "code",
   "execution_count": 37,
   "metadata": {},
   "outputs": [
    {
     "data": {
      "text/plain": [
       "{'agent_0': <agents.counterfactualregret_mcts.CounterFactualRegretMCTS at 0x22826036690>,\n",
       " 'agent_1': <agents.agent_random.RandomAgent at 0x228260dfe00>}"
      ]
     },
     "execution_count": 37,
     "metadata": {},
     "output_type": "execute_result"
    }
   ],
   "source": [
    "my_agents"
   ]
  },
  {
   "cell_type": "code",
   "execution_count": 38,
   "metadata": {},
   "outputs": [
    {
     "data": {
      "text/plain": [
       "({-2: 13, -1: 34, 1: 31, 2: 22}, 0.15)"
      ]
     },
     "execution_count": 38,
     "metadata": {},
     "output_type": "execute_result"
    }
   ],
   "source": [
    "# agents = {**agents, **dict(map(lambda agent: (agent, RandomAgent(game=game, agent=agent)), game.agents))}\n",
    "\n",
    "for agent in my_agents.values():\n",
    "    agent.train(niter=100)  # You can adjust the number of iterations\n",
    "    \n",
    "run(game=game, agents=my_agents)"
   ]
  },
  {
   "cell_type": "code",
   "execution_count": 39,
   "metadata": {},
   "outputs": [
    {
     "data": {
      "text/plain": [
       "[0, 1]"
      ]
     },
     "execution_count": 39,
     "metadata": {},
     "output_type": "execute_result"
    }
   ],
   "source": [
    "game.available_actions()"
   ]
  },
  {
   "cell_type": "code",
   "execution_count": 40,
   "metadata": {},
   "outputs": [],
   "source": [
    "# game.reset()\n",
    "# game.step(1)\n",
    "# game.observe('agent_0')"
   ]
  },
  {
   "cell_type": "code",
   "execution_count": 41,
   "metadata": {},
   "outputs": [
    {
     "name": "stdout",
     "output_type": "stream",
     "text": [
      "0\t agent_0 [0.7295293 0.2704707]\n",
      "0b\t agent_1 [0.98684211 0.01315789]\n",
      "0p\t agent_1 [0.60438665 0.39561335]\n",
      "0pb\t agent_0 [0.99098193 0.00901807]\n",
      "1\t agent_0 [0.77803265 0.22196735]\n",
      "1b\t agent_1 [0.44074601 0.55925399]\n",
      "1p\t agent_1 [0.95045045 0.04954955]\n",
      "1pb\t agent_0 [0.42048803 0.57951197]\n",
      "2\t agent_0 [0.42275044 0.57724956]\n",
      "2b\t agent_1 [0.01724138 0.98275862]\n",
      "2p\t agent_1 [0.01724138 0.98275862]\n",
      "2pb\t agent_0 [0.01848017 0.98151983]\n",
      "<agents.agent_random.RandomAgent object at 0x00000228260DFE00> does not have a node_dict attribute.\n"
     ]
    }
   ],
   "source": [
    "# for n in sorted(agent.node_dict.keys()):\n",
    "#     print(n+'\\t', agent.node_dict[n].agent, agent.node_dict[n].policy())\n",
    "\n",
    "for agent in my_agents.values():\n",
    "    if hasattr(agent, 'node_dict'):\n",
    "        for n in sorted(agent.node_dict.keys()):\n",
    "            print(n + '\\t', agent.node_dict[n].agent, agent.node_dict[n].policy())\n",
    "    else:\n",
    "        print(f\"{agent} does not have a node_dict attribute.\")"
   ]
  },
  {
   "cell_type": "code",
   "execution_count": 42,
   "metadata": {},
   "outputs": [
    {
     "name": "stdout",
     "output_type": "stream",
     "text": [
      "Average reward: {'agent_0': 0.084, 'agent_1': -0.084}\n",
      "Agent mapping: {'agent_0': <agents.counterfactualregret_mcts.CounterFactualRegretMCTS object at 0x0000022826036690>, 'agent_1': <agents.agent_random.RandomAgent object at 0x00000228260DFE00>}\n"
     ]
    }
   ],
   "source": [
    "cum_rewards = dict(map(lambda agent: (agent, 0), game.agents))\n",
    "niter = 1000\n",
    "for _ in range(niter):\n",
    "    game.reset()\n",
    "    turn = 0\n",
    "    while not game.done():\n",
    "        agent.agent = game.agent_selection\n",
    "        a = agent.action()\n",
    "        game.step(a)\n",
    "        turn +=1\n",
    "    for ag in game.agents:\n",
    "        cum_rewards[ag] += game.rewards[ag]\n",
    "print('Average reward:',dict(map(lambda ag : (ag, cum_rewards[ag]/niter), game.agents)))\n",
    "print('Agent mapping:',my_agents)"
   ]
  },
  {
   "cell_type": "code",
   "execution_count": null,
   "metadata": {},
   "outputs": [],
   "source": []
  }
 ],
 "metadata": {
  "kernelspec": {
   "display_name": "RL",
   "language": "python",
   "name": "python3"
  },
  "language_info": {
   "codemirror_mode": {
    "name": "ipython",
    "version": 3
   },
   "file_extension": ".py",
   "mimetype": "text/x-python",
   "name": "python",
   "nbconvert_exporter": "python",
   "pygments_lexer": "ipython3",
   "version": "3.12.0"
  }
 },
 "nbformat": 4,
 "nbformat_minor": 2
}
