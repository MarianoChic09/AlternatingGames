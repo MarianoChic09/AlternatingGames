{
 "cells": [
  {
   "cell_type": "markdown",
   "metadata": {},
   "source": [
    "# Kuhn Poker "
   ]
  },
  {
   "cell_type": "code",
   "execution_count": 28,
   "metadata": {},
   "outputs": [],
   "source": [
    "from importlib import reload\n",
    "import agents\n",
    "reload(agents)\n",
    "reload(agents.counterfactualregret_mcts)\n",
    "\n",
    "from games.kuhn import KuhnPoker\n",
    "from agents.agent_random import RandomAgent\n",
    "from base.utils import play, run\n",
    "import numpy as np\n",
    "\n",
    "game = KuhnPoker(render_mode='human')\n",
    "reload(agents.counterfactualregret_mcts)\n",
    "from agents.counterfactualregret_mcts import CounterFactualRegretMCTS\n",
    "reload(agents.agent_random)\n",
    "from agents.agent_random import RandomAgent"
   ]
  },
  {
   "cell_type": "code",
   "execution_count": 29,
   "metadata": {},
   "outputs": [],
   "source": [
    "agent_classes = [ CounterFactualRegretMCTS, RandomAgent ]\n",
    "my_agents = {}\n",
    "for i, agent in enumerate(game.agents):\n",
    "    my_agents[agent] = agent_classes[i](game=game, agent=agent)"
   ]
  },
  {
   "cell_type": "code",
   "execution_count": 30,
   "metadata": {},
   "outputs": [
    {
     "data": {
      "text/plain": [
       "{'agent_0': <agents.counterfactualregret_mcts.CounterFactualRegretMCTS at 0x245fa7faa50>,\n",
       " 'agent_1': <agents.agent_random.RandomAgent at 0x245f9d71b90>}"
      ]
     },
     "execution_count": 30,
     "metadata": {},
     "output_type": "execute_result"
    }
   ],
   "source": [
    "my_agents"
   ]
  },
  {
   "cell_type": "code",
   "execution_count": 31,
   "metadata": {},
   "outputs": [
    {
     "name": "stdout",
     "output_type": "stream",
     "text": [
      "agent_0 J pb\n",
      "agent_1 K pb\n"
     ]
    },
    {
     "ename": "AttributeError",
     "evalue": "'KuhnPoker' object has no attribute 'agent_selection'",
     "output_type": "error",
     "traceback": [
      "\u001b[1;31m---------------------------------------------------------------------------\u001b[0m",
      "\u001b[1;31mAttributeError\u001b[0m                            Traceback (most recent call last)",
      "\u001b[1;32mc:\\Users\\scruple077\\OneDrive\\Master en Big Data - Universidad ORT\\3er Semestre\\Sistemas Multiagente\\AlternatingGames\\CFR-MCTS_KuhnPoker.ipynb Cell 5\u001b[0m line \u001b[0;36m4\n\u001b[0;32m      <a href='vscode-notebook-cell:/c%3A/Users/scruple077/OneDrive/Master%20en%20Big%20Data%20-%20Universidad%20ORT/3er%20Semestre/Sistemas%20Multiagente/AlternatingGames/CFR-MCTS_KuhnPoker.ipynb#W4sZmlsZQ%3D%3D?line=0'>1</a>\u001b[0m \u001b[39m# agents = {**agents, **dict(map(lambda agent: (agent, RandomAgent(game=game, agent=agent)), game.agents))}\u001b[39;00m\n\u001b[0;32m      <a href='vscode-notebook-cell:/c%3A/Users/scruple077/OneDrive/Master%20en%20Big%20Data%20-%20Universidad%20ORT/3er%20Semestre/Sistemas%20Multiagente/AlternatingGames/CFR-MCTS_KuhnPoker.ipynb#W4sZmlsZQ%3D%3D?line=2'>3</a>\u001b[0m \u001b[39mfor\u001b[39;00m agent \u001b[39min\u001b[39;00m my_agents\u001b[39m.\u001b[39mvalues():\n\u001b[1;32m----> <a href='vscode-notebook-cell:/c%3A/Users/scruple077/OneDrive/Master%20en%20Big%20Data%20-%20Universidad%20ORT/3er%20Semestre/Sistemas%20Multiagente/AlternatingGames/CFR-MCTS_KuhnPoker.ipynb#W4sZmlsZQ%3D%3D?line=3'>4</a>\u001b[0m     agent\u001b[39m.\u001b[39;49mtrain(niter\u001b[39m=\u001b[39;49m\u001b[39m100\u001b[39;49m)  \u001b[39m# You can adjust the number of iterations\u001b[39;00m\n\u001b[0;32m      <a href='vscode-notebook-cell:/c%3A/Users/scruple077/OneDrive/Master%20en%20Big%20Data%20-%20Universidad%20ORT/3er%20Semestre/Sistemas%20Multiagente/AlternatingGames/CFR-MCTS_KuhnPoker.ipynb#W4sZmlsZQ%3D%3D?line=5'>6</a>\u001b[0m run(game\u001b[39m=\u001b[39mgame, agents\u001b[39m=\u001b[39mmy_agents)\n",
      "File \u001b[1;32mc:\\Users\\scruple077\\OneDrive\\Master en Big Data - Universidad ORT\\3er Semestre\\Sistemas Multiagente\\AlternatingGames\\agents\\counterfactualregret_mcts.py:132\u001b[0m, in \u001b[0;36mCounterFactualRegretMCTS.train\u001b[1;34m(self, niter)\u001b[0m\n\u001b[0;32m    130\u001b[0m \u001b[39m# logging.debug(f\"Training agent {self.agent}\")\u001b[39;00m\n\u001b[0;32m    131\u001b[0m \u001b[39mfor\u001b[39;00m i \u001b[39min\u001b[39;00m \u001b[39mrange\u001b[39m(niter):\n\u001b[1;32m--> 132\u001b[0m     \u001b[39mself\u001b[39;49m\u001b[39m.\u001b[39;49mcfr()\n",
      "File \u001b[1;32mc:\\Users\\scruple077\\OneDrive\\Master en Big Data - Universidad ORT\\3er Semestre\\Sistemas Multiagente\\AlternatingGames\\agents\\counterfactualregret_mcts.py:161\u001b[0m, in \u001b[0;36mCounterFactualRegretMCTS.cfr\u001b[1;34m(self)\u001b[0m\n\u001b[0;32m    159\u001b[0m logging\u001b[39m.\u001b[39mdebug(\u001b[39mf\u001b[39m\u001b[39m\"\u001b[39m\u001b[39mAgent: \u001b[39m\u001b[39m{\u001b[39;00magent\u001b[39m}\u001b[39;00m\u001b[39m\"\u001b[39m)\n\u001b[0;32m    160\u001b[0m \u001b[39m# self.utilities[agent] = \u001b[39;00m\n\u001b[1;32m--> 161\u001b[0m \u001b[39mself\u001b[39;49m\u001b[39m.\u001b[39;49mcfr_rec(game\u001b[39m=\u001b[39;49mgame, agent\u001b[39m=\u001b[39;49magent, probability\u001b[39m=\u001b[39;49mprobability)\n",
      "File \u001b[1;32mc:\\Users\\scruple077\\OneDrive\\Master en Big Data - Universidad ORT\\3er Semestre\\Sistemas Multiagente\\AlternatingGames\\agents\\counterfactualregret_mcts.py:223\u001b[0m, in \u001b[0;36mCounterFactualRegretMCTS.cfr_rec\u001b[1;34m(self, game, agent, probability, depth)\u001b[0m\n\u001b[0;32m    220\u001b[0m     game_clone\u001b[39m.\u001b[39mstep(a)\n\u001b[0;32m    221\u001b[0m     \u001b[39m# call cfr recursively on updated game with new probability and update node utility\u001b[39;00m\n\u001b[1;32m--> 223\u001b[0m     utility[a] \u001b[39m=\u001b[39m \u001b[39mself\u001b[39;49m\u001b[39m.\u001b[39;49mcfr_rec(game_clone, agent, probability_new,depth\u001b[39m=\u001b[39;49mdepth\u001b[39m+\u001b[39;49m\u001b[39m1\u001b[39;49m)\n\u001b[0;32m    225\u001b[0m node_utility \u001b[39m=\u001b[39m np\u001b[39m.\u001b[39msum(utility \u001b[39m*\u001b[39m node\u001b[39m.\u001b[39mcurr_policy) \u001b[39m# Valor esperado de la probabilidad de la\u001b[39;00m\n\u001b[0;32m    226\u001b[0m \u001b[39m# vI = vI + πI [a] ∗ vI→a[a]\u001b[39;00m\n",
      "File \u001b[1;32mc:\\Users\\scruple077\\OneDrive\\Master en Big Data - Universidad ORT\\3er Semestre\\Sistemas Multiagente\\AlternatingGames\\agents\\counterfactualregret_mcts.py:223\u001b[0m, in \u001b[0;36mCounterFactualRegretMCTS.cfr_rec\u001b[1;34m(self, game, agent, probability, depth)\u001b[0m\n\u001b[0;32m    220\u001b[0m     game_clone\u001b[39m.\u001b[39mstep(a)\n\u001b[0;32m    221\u001b[0m     \u001b[39m# call cfr recursively on updated game with new probability and update node utility\u001b[39;00m\n\u001b[1;32m--> 223\u001b[0m     utility[a] \u001b[39m=\u001b[39m \u001b[39mself\u001b[39;49m\u001b[39m.\u001b[39;49mcfr_rec(game_clone, agent, probability_new,depth\u001b[39m=\u001b[39;49mdepth\u001b[39m+\u001b[39;49m\u001b[39m1\u001b[39;49m)\n\u001b[0;32m    225\u001b[0m node_utility \u001b[39m=\u001b[39m np\u001b[39m.\u001b[39msum(utility \u001b[39m*\u001b[39m node\u001b[39m.\u001b[39mcurr_policy) \u001b[39m# Valor esperado de la probabilidad de la\u001b[39;00m\n\u001b[0;32m    226\u001b[0m \u001b[39m# vI = vI + πI [a] ∗ vI→a[a]\u001b[39;00m\n",
      "File \u001b[1;32mc:\\Users\\scruple077\\OneDrive\\Master en Big Data - Universidad ORT\\3er Semestre\\Sistemas Multiagente\\AlternatingGames\\agents\\counterfactualregret_mcts.py:177\u001b[0m, in \u001b[0;36mCounterFactualRegretMCTS.cfr_rec\u001b[1;34m(self, game, agent, probability, depth)\u001b[0m\n\u001b[0;32m    174\u001b[0m \u001b[39mif\u001b[39;00m depth \u001b[39m>\u001b[39m\u001b[39m=\u001b[39m \u001b[39mself\u001b[39m\u001b[39m.\u001b[39mmax_depth:\n\u001b[0;32m    175\u001b[0m     \u001b[39m# Use MCTS for utility estimation\u001b[39;00m\n\u001b[0;32m    176\u001b[0m     mcts_root \u001b[39m=\u001b[39m MCTSNode(parent\u001b[39m=\u001b[39m\u001b[39mNone\u001b[39;00m, game\u001b[39m=\u001b[39mgame, action\u001b[39m=\u001b[39m\u001b[39mNone\u001b[39;00m)\n\u001b[1;32m--> 177\u001b[0m     _, estimated_utility \u001b[39m=\u001b[39m \u001b[39mself\u001b[39;49m\u001b[39m.\u001b[39;49mmcts(game, simulations\u001b[39m=\u001b[39;49m\u001b[39m100\u001b[39;49m)\n\u001b[0;32m    178\u001b[0m     \u001b[39mreturn\u001b[39;00m estimated_utility  \u001b[39m# Or further processing depending on your game's nature\u001b[39;00m\n\u001b[0;32m    180\u001b[0m \u001b[39m# if self.depth == 0:\u001b[39;00m\n\u001b[0;32m    181\u001b[0m \u001b[39m#     return function_evaluacion(self.tipo_funcion, game, agent) # no quiero hacer regret entonces uso una estimacion. La mas rapida es rollout. \u001b[39;00m\n\u001b[0;32m    182\u001b[0m \u001b[39m# # implementar aca montecarlo tree search, rollout(monte carlo), heuristica. \u001b[39;00m\n\u001b[0;32m    183\u001b[0m \n\u001b[0;32m    184\u001b[0m \u001b[39m# get observation node\u001b[39;00m\n",
      "File \u001b[1;32mc:\\Users\\scruple077\\OneDrive\\Master en Big Data - Universidad ORT\\3er Semestre\\Sistemas Multiagente\\AlternatingGames\\agents\\counterfactualregret_mcts.py:269\u001b[0m, in \u001b[0;36mCounterFactualRegretMCTS.mcts\u001b[1;34m(self, game, simulations)\u001b[0m\n\u001b[0;32m    266\u001b[0m logging\u001b[39m.\u001b[39mdebug(\u001b[39mf\u001b[39m\u001b[39m'\u001b[39m\u001b[39mSelected node: \u001b[39m\u001b[39m{\u001b[39;00mnode\u001b[39m.\u001b[39maction\u001b[39m}\u001b[39;00m\u001b[39m'\u001b[39m)\n\u001b[0;32m    267\u001b[0m \u001b[39m# expansion\u001b[39;00m\n\u001b[0;32m    268\u001b[0m \u001b[39m#print('expansion')\u001b[39;00m\n\u001b[1;32m--> 269\u001b[0m \u001b[39mself\u001b[39;49m\u001b[39m.\u001b[39;49mexpand_node(node) \u001b[39m# si el juego no esta terminado jugar una available action del nodo y crear un nuevo nodo hijo.\u001b[39;00m\n\u001b[0;32m    270\u001b[0m logging\u001b[39m.\u001b[39mdebug(\u001b[39mf\u001b[39m\u001b[39m'\u001b[39m\u001b[39mExpanded node: \u001b[39m\u001b[39m{\u001b[39;00mnode\u001b[39m.\u001b[39maction\u001b[39m}\u001b[39;00m\u001b[39m'\u001b[39m)\n\u001b[0;32m    271\u001b[0m \u001b[39m# Aca podes decir que el nodo sea el nodo nuevo : node = self.expand_node(node)\u001b[39;00m\n\u001b[0;32m    272\u001b[0m \u001b[39m# rollout\u001b[39;00m\n\u001b[0;32m    273\u001b[0m \u001b[39m#print('rollout')\u001b[39;00m\n",
      "File \u001b[1;32mc:\\Users\\scruple077\\OneDrive\\Master en Big Data - Universidad ORT\\3er Semestre\\Sistemas Multiagente\\AlternatingGames\\agents\\counterfactualregret_mcts.py:353\u001b[0m, in \u001b[0;36mCounterFactualRegretMCTS.expand_node\u001b[1;34m(self, node)\u001b[0m\n\u001b[0;32m    351\u001b[0m available_action \u001b[39m=\u001b[39m \u001b[39mself\u001b[39m\u001b[39m.\u001b[39mgame\u001b[39m.\u001b[39mavailable_actions()\n\u001b[0;32m    352\u001b[0m action \u001b[39m=\u001b[39m np\u001b[39m.\u001b[39mrandom\u001b[39m.\u001b[39mchoice(available_action)\n\u001b[1;32m--> 353\u001b[0m \u001b[39mself\u001b[39;49m\u001b[39m.\u001b[39;49mgame\u001b[39m.\u001b[39;49mstep(action)\n\u001b[0;32m    354\u001b[0m child \u001b[39m=\u001b[39m MCTSNode(parent\u001b[39m=\u001b[39mnode, game\u001b[39m=\u001b[39m\u001b[39mself\u001b[39m\u001b[39m.\u001b[39mgame, action\u001b[39m=\u001b[39maction)\n\u001b[0;32m    355\u001b[0m node\u001b[39m.\u001b[39mchildren\u001b[39m.\u001b[39mappend(child)\n",
      "File \u001b[1;32mc:\\Users\\scruple077\\OneDrive\\Master en Big Data - Universidad ORT\\3er Semestre\\Sistemas Multiagente\\AlternatingGames\\games\\kuhn.py:42\u001b[0m, in \u001b[0;36mKuhnPoker.step\u001b[1;34m(self, action)\u001b[0m\n\u001b[0;32m     41\u001b[0m \u001b[39mdef\u001b[39;00m \u001b[39mstep\u001b[39m(\u001b[39mself\u001b[39m, action: ActionType) \u001b[39m-\u001b[39m\u001b[39m>\u001b[39m \u001b[39mNone\u001b[39;00m:\n\u001b[1;32m---> 42\u001b[0m     agent \u001b[39m=\u001b[39m \u001b[39mself\u001b[39;49m\u001b[39m.\u001b[39;49magent_selection\n\u001b[0;32m     43\u001b[0m     \u001b[39m# check for termination\u001b[39;00m\n\u001b[0;32m     44\u001b[0m     \u001b[39mif\u001b[39;00m (\u001b[39mself\u001b[39m\u001b[39m.\u001b[39mterminations[agent] \u001b[39mor\u001b[39;00m \u001b[39mself\u001b[39m\u001b[39m.\u001b[39mtruncations[agent]):\n",
      "\u001b[1;31mAttributeError\u001b[0m: 'KuhnPoker' object has no attribute 'agent_selection'"
     ]
    },
    {
     "ename": "",
     "evalue": "",
     "output_type": "error",
     "traceback": [
      "\u001b[1;31mThe Kernel crashed while executing code in the the current cell or a previous cell. Please review the code in the cell(s) to identify a possible cause of the failure. Click <a href='https://aka.ms/vscodeJupyterKernelCrash'>here</a> for more info. View Jupyter <a href='command:jupyter.viewOutput'>log</a> for further details."
     ]
    }
   ],
   "source": [
    "# agents = {**agents, **dict(map(lambda agent: (agent, RandomAgent(game=game, agent=agent)), game.agents))}\n",
    "\n",
    "for agent in my_agents.values():\n",
    "    agent.train(niter=100)  # You can adjust the number of iterations\n",
    "    \n",
    "run(game=game, agents=my_agents)"
   ]
  },
  {
   "cell_type": "code",
   "execution_count": 59,
   "metadata": {},
   "outputs": [
    {
     "data": {
      "text/plain": [
       "[0, 1]"
      ]
     },
     "execution_count": 59,
     "metadata": {},
     "output_type": "execute_result"
    }
   ],
   "source": [
    "game.available_actions()"
   ]
  },
  {
   "cell_type": "code",
   "execution_count": 60,
   "metadata": {},
   "outputs": [],
   "source": [
    "# game.reset()\n",
    "# game.step(1)\n",
    "# game.observe('agent_0')"
   ]
  },
  {
   "cell_type": "code",
   "execution_count": 8,
   "metadata": {},
   "outputs": [
    {
     "name": "stdout",
     "output_type": "stream",
     "text": [
      "0\t agent_0 [0.76957461 0.23042539]\n",
      "0b\t agent_1 [0.984375 0.015625]\n",
      "0p\t agent_1 [0.57782048 0.42217952]\n",
      "0pb\t agent_0 [0.99145119 0.00854881]\n",
      "1\t agent_0 [0.82445145 0.17554855]\n",
      "1b\t agent_1 [0.46491872 0.53508128]\n",
      "1p\t agent_1 [0.72086833 0.27913167]\n",
      "1pb\t agent_0 [0.42354809 0.57645191]\n",
      "2\t agent_0 [0.18062077 0.81937923]\n",
      "2b\t agent_1 [0.015625 0.984375]\n",
      "2p\t agent_1 [0.015625 0.984375]\n",
      "2pb\t agent_0 [0.0494327 0.9505673]\n",
      "<agents.agent_random.RandomAgent object at 0x00000245FA717090> does not have a node_dict attribute.\n"
     ]
    }
   ],
   "source": [
    "# for n in sorted(agent.node_dict.keys()):\n",
    "#     print(n+'\\t', agent.node_dict[n].agent, agent.node_dict[n].policy())\n",
    "\n",
    "for agent in my_agents.values():\n",
    "    if hasattr(agent, 'node_dict'):\n",
    "        for n in sorted(agent.node_dict.keys()):\n",
    "            print(n + '\\t', agent.node_dict[n].agent, agent.node_dict[n].policy())\n",
    "    else:\n",
    "        print(f\"{agent} does not have a node_dict attribute.\")"
   ]
  },
  {
   "cell_type": "code",
   "execution_count": 46,
   "metadata": {},
   "outputs": [
    {
     "name": "stdout",
     "output_type": "stream",
     "text": [
      "Average reward: {'agent_0': 0.13081, 'agent_1': -0.13081}\n",
      "Agent mapping: {'agent_0': <agents.counterfactualregret.CounterFactualRegret object at 0x0000026A18567E10>, 'agent_1': <agents.agent_random.RandomAgent object at 0x0000026A7FE4EC90>}\n"
     ]
    }
   ],
   "source": [
    "cum_rewards = dict(map(lambda agent: (agent, 0), game.agents))\n",
    "niter = 100000\n",
    "for _ in range(niter):\n",
    "    game.reset()\n",
    "    turn = 0\n",
    "    while not game.done():\n",
    "        agent.agent = game.agent_selection\n",
    "        a = agent.action()\n",
    "        game.step(a)\n",
    "        turn +=1\n",
    "    for ag in game.agents:\n",
    "        cum_rewards[ag] += game.rewards[ag]\n",
    "print('Average reward:',dict(map(lambda ag : (ag, cum_rewards[ag]/niter), game.agents)))\n",
    "print('Agent mapping:',my_agents)"
   ]
  },
  {
   "cell_type": "code",
   "execution_count": null,
   "metadata": {},
   "outputs": [],
   "source": []
  }
 ],
 "metadata": {
  "kernelspec": {
   "display_name": "RL",
   "language": "python",
   "name": "python3"
  },
  "language_info": {
   "codemirror_mode": {
    "name": "ipython",
    "version": 3
   },
   "file_extension": ".py",
   "mimetype": "text/x-python",
   "name": "python",
   "nbconvert_exporter": "python",
   "pygments_lexer": "ipython3",
   "version": "3.11.6"
  }
 },
 "nbformat": 4,
 "nbformat_minor": 2
}
